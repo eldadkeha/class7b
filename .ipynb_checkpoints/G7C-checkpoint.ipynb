{
 "cells": [
  {
   "cell_type": "code",
   "execution_count": null,
   "id": "23b29dcc-72af-4114-9696-dd4f1cb9e139",
   "metadata": {},
   "outputs": [],
   "source": [
    "# nbi:hide_in \n",
    "import pandas as pd\n",
    "import seaborn as sns\n",
    "import numpy as np\n",
    "import matplotlib.pyplot as plt\n",
    "from ipywidgets import interact, interactive, fixed, interact_manual, Layout\n",
    "import ipywidgets as widgets\n",
    "import random\n",
    "from scipy import stats\n",
    "from IPython.display import HTML\n",
    "\n",
    "data3 = pd.read_csv(\"data3.csv\")\n",
    "data4 = pd.read_csv(\"data4.csv\")\n",
    "FTN = data3['FT']\n",
    "FTI = data4['FT']\n",
    "\n",
    "sns.set(font=\"serif\", style = \"white\")\n",
    "\n",
    "def mean_boot(SamplesNum=1000, Sample_Size = 30, alpha = 1):  \n",
    "  meanFTN = np.zeros(SamplesNum)\n",
    "  for i in range(SamplesNum):\n",
    "      SampledFTN=random.choices(FTN, k=Sample_Size)\n",
    "      meanFTN[i]=np.mean(SampledFTN)\n",
    "      FTIsample = random.choices(FTI, k=Sample_Size)\n",
    "      x = np.mean(FTIsample)\n",
    "      typeI = np.percentile(meanFTN,100-alpha)\n",
    "    \n",
    "  plt.figure(figsize=(9,6))\n",
    "  sns.histplot(FTIsample,bins=25,alpha=0.7, color=\"lightcoral\", stat = \"density\", label = \"The sample with Optical Illusion\");  \n",
    "  sns.histplot(meanFTN,bins=15,alpha=0.7, color=\"peachpuff\", stat = \"density\", kde = True, label = \"Sampling distrinution of NBA players\");\n",
    "  sns.kdeplot(meanFTN,color=\"darkred\");\n",
    "  plt.title (\"Can optical illusion improve Free-Throws shooting?\", size = 22, color = \"orange\")\n",
    "  plt.xlabel(\"Percentage of free throws Scoring\", size = 18)\n",
    "  plt.ylabel(\"Density\", size =18)\n",
    "  plt.yticks(size =14)\n",
    "  plt.xticks(size =14)\n",
    "  plt.axvline(x=np.mean(FTIsample), color='brown', linestyle='-', linewidth = 4, label = \"% of Shooting with Optical Illusion is \" + str(np.round(x, decimals = 2)));\n",
    "  plt.axvline(x=typeI, ymin=0,ymax=100, color='black', linestyle='--', label = \"Criterion alpha in percentages\");\n",
    "  plt.legend(fontsize = 10)\n",
    "\n",
    "  print(\"Overall, \" + str(stats.percentileofscore(meanFTN,(x)))+str(\" % of samples are shooting worth than our sample\"))\n",
    "  print(\"Or we can say that \" + str(np.round(100 - stats.percentileofscore(meanFTN,(x)), decimals = 2))+str(\" % are shooting better than our sample\"))  \n",
    "int_widget = interactive(mean_boot,SamplesNum=(1000,10000,100), Sample_Size=(2,100,1), alpha = (0,5,0.1))\n",
    "int_widget.children[0].layout = Layout(width='600px')\n",
    "int_widget.children[1].layout = Layout(width='500px')\n",
    "int_widget.children[2].layout = Layout(width='300px')\n",
    "display(int_widget)\n",
    "\n",
    "display(HTML('''<style>[data-mime-type=\"application/vnd.jupyter.stdout\"] pre { font-size:18px}</style>'''))\n",
    "\n",
    "\n",
    "\n"
   ]
  }
 ],
 "metadata": {
  "kernelspec": {
   "display_name": "Python 3 (ipykernel)",
   "language": "python",
   "name": "python3"
  },
  "language_info": {
   "codemirror_mode": {
    "name": "ipython",
    "version": 3
   },
   "file_extension": ".py",
   "mimetype": "text/x-python",
   "name": "python",
   "nbconvert_exporter": "python",
   "pygments_lexer": "ipython3",
   "version": "3.7.12"
  }
 },
 "nbformat": 4,
 "nbformat_minor": 5
}
